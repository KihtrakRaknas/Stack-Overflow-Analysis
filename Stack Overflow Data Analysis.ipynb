{
 "cells": [
  {
   "cell_type": "code",
   "execution_count": 1,
   "metadata": {},
   "outputs": [
    {
     "name": "stdout",
     "output_type": "stream",
     "text": [
      "Downloading suicide-rates-overview-1985-to-2016.zip to datasets/suicide_stats\n",
      "\n"
     ]
    },
    {
     "name": "stderr",
     "output_type": "stream",
     "text": [
      "\n",
      "  0%|          | 0.00/397k [00:00<?, ?B/s]\n",
      "100%|##########| 397k/397k [00:00<00:00, 2.43MB/s]\n",
      "100%|##########| 397k/397k [00:00<00:00, 2.32MB/s]\n"
     ]
    },
    {
     "name": "stdout",
     "output_type": "stream",
     "text": [
      "Archive:  datasets/suicide_stats/suicide-rates-overview-1985-to-2016.zip\n",
      "  inflating: master.csv              \n"
     ]
    }
   ],
   "source": [
    "# Retrives data from URL and saves it to the file system\n",
    "!kaggle datasets download -d russellyates88/suicide-rates-overview-1985-to-2016 -p datasets/suicide_stats\n",
    "!unzip datasets/suicide_stats/suicide-rates-overview-1985-to-2016"
   ]
  },
  {
   "cell_type": "code",
   "execution_count": null,
   "metadata": {},
   "outputs": [],
   "source": []
  }
 ],
 "metadata": {
  "kernelspec": {
   "display_name": "Python 3",
   "language": "python",
   "name": "python3"
  },
  "language_info": {
   "codemirror_mode": {
    "name": "ipython",
    "version": 3
   },
   "file_extension": ".py",
   "mimetype": "text/x-python",
   "name": "python",
   "nbconvert_exporter": "python",
   "pygments_lexer": "ipython3",
   "version": "3.7.4"
  }
 },
 "nbformat": 4,
 "nbformat_minor": 2
}
